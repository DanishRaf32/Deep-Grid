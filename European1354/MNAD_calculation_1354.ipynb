{
 "cells": [
  {
   "cell_type": "markdown",
   "id": "337ff3f7",
   "metadata": {},
   "source": [
    "# This file calculates the MNAD values for the IEEE SM 1354\n"
   ]
  },
  {
   "cell_type": "code",
   "execution_count": 1,
   "id": "da8bc39b",
   "metadata": {},
   "outputs": [],
   "source": [
    " import matplotlib.pyplot as plt\n",
    "import numpy as np\n",
    "# import pandas as pd\n",
    "import tensorflow as tf\n",
    "from tensorflow.keras.callbacks import ModelCheckpoint, EarlyStopping\n",
    "from tensorflow.keras import optimizers, models, regularizers\n",
    "from sklearn.metrics import accuracy_score, precision_score, recall_score\n",
    "from sklearn.model_selection import train_test_split\n",
    "from tensorflow.keras import layers, losses, Input\n",
    "from tensorflow.keras.layers import Input, Dense, LSTM, Lambda, Dropout, GRU,SimpleRNN\n",
    "from tensorflow.keras.layers import Flatten, Dense,Dropout\n",
    "from tensorflow.keras.models import load_model, Sequential, Model\n",
    "from tensorflow.keras.datasets import fashion_mnist\n",
    "from tensorflow.keras.models import Model\n",
    "from tensorflow.keras import backend as K\n",
    "from sklearn.preprocessing import MinMaxScaler\n",
    "from sklearn import preprocessing\n",
    "from numpy.linalg import norm\n",
    "from scipy import stats"
   ]
  },
  {
   "cell_type": "code",
   "execution_count": 2,
   "id": "1ea54170",
   "metadata": {
    "scrolled": true
   },
   "outputs": [
    {
     "name": "stdout",
     "output_type": "stream",
     "text": [
      "(3000, 2708)\n",
      "(900, 2708)\n"
     ]
    },
    {
     "data": {
      "image/png": "[encoded data removed]",
      "text/plain": [
       "<Figure size 432x288 with 1 Axes>"
      ]
     },
     "metadata": {
      "needs_background": "light"
     },
     "output_type": "display_data"
    }
   ],
   "source": [
    "def outliers(df, int):\n",
    "  z_scores = stats.zscore(df)\n",
    "  abs_z_scores = np.abs(z_scores)\n",
    "  filtered_entries = (abs_z_scores < int).all(axis=1)\n",
    "  df = df[filtered_entries]\n",
    "  return df\n",
    "def coeff_determination(y_pred, y_true): #Order of function inputs is important here        \n",
    "    SS_res =  K.sum(K.square( y_true-y_pred )) \n",
    "    SS_tot = K.sum(K.square( y_true - K.mean(y_true) ) )\n",
    "    return ( 1 - SS_res/(SS_tot + K.epsilon()) )\n",
    "\n",
    "# importing data \n",
    "import scipy.io as sio\n",
    "train= sio.loadmat('snaps_train.mat')   # load the desired model\n",
    "snapshots_train=train['snaps_train'].T\n",
    "#valid= sio.loadmat('xFOM_valid.mat')   # load the desired model\n",
    "#snapshots_valid=valid['xFOM_valid']\n",
    "test= sio.loadmat('snaps_test.mat')   # load the desired model\n",
    "snapshots_all=test['snaps_test']\n",
    "tspan=60\n",
    "set=50\n",
    "snapshots_train=snapshots_train[:,:]\n",
    "snapshots_valid=snapshots_all[0:tspan,:]\n",
    "snapshots_train=outliers(snapshots_train,10)\n",
    "print (snapshots_train.shape)\n",
    "print (snapshots_all.shape)\n",
    "plt.plot(snapshots_train[0:tspan,1])\n",
    "plt.show()\n"
   ]
  },
  {
   "cell_type": "code",
   "execution_count": 3,
   "id": "c0d9e7cc",
   "metadata": {},
   "outputs": [
    {
     "name": "stdout",
     "output_type": "stream",
     "text": [
      "Model: \"autoencoder\"\n",
      "_________________________________________________________________\n",
      " Layer (type)                Output Shape              Param #   \n",
      "=================================================================\n",
      " IEEE300 (InputLayer)        [(None, 2708, 1)]         0         \n",
      "                                                                 \n",
      " encoder (Functional)        (None, 13)                12910641  \n",
      "                                                                 \n",
      " decoder (Functional)        (None, 2708)              12913336  \n",
      "                                                                 \n",
      "=================================================================\n",
      "Total params: 25,823,977\n",
      "Trainable params: 25,823,977\n",
      "Non-trainable params: 0\n",
      "_________________________________________________________________\n"
     ]
    },
    {
     "name": "stderr",
     "output_type": "stream",
     "text": [
      "C:\\ProgramData\\Anaconda3\\lib\\site-packages\\keras\\optimizer_v2\\adam.py:105: UserWarning: The `lr` argument is deprecated, use `learning_rate` instead.\n",
      "  super(Adam, self).__init__(name, **kwargs)\n"
     ]
    }
   ],
   "source": [
    "latent_dim=13 # or 8\n",
    "input=output=snapshots_train.shape[1]\n",
    "first=input\n",
    "second=2048\n",
    "encoder_input = Input(shape=(input, 1), name='IEEE300')\n",
    "o1 = Flatten()(encoder_input)\n",
    "o2 = Dense(first, activation=\"relu\")(o1)\n",
    "o3 = Dense(second, activation=\"relu\")(o2)\n",
    "\n",
    "encoder_output = Dense(latent_dim, activation=None)(o3)\n",
    "encoder = Model(encoder_input, encoder_output, name='encoder')\n",
    "#encoder.summary()\n",
    "decoder_input = Dense(latent_dim, activation='relu')(encoder_output)\n",
    "decoder_input2 = Dense(second, activation='relu')(decoder_input)\n",
    "decoder_input3= Dense(first, activation='relu')(decoder_input2)\n",
    "\n",
    "decoder_output = Dense(output, activation=None)(decoder_input3)\n",
    "decoder = Model(decoder_input, decoder_output, name='decoder')\n",
    "ae_output=decoder(encoder(encoder_input))\n",
    "autoencoder = Model(encoder_input, ae_output, name='autoencoder')\n",
    "autoencoder.summary()\n",
    "weights_filepath = 'AE_weightsMNAD10.h5'\n",
    "\n",
    "# design network\n",
    "lrate = 0.001\n",
    "my_adam = optimizers.Adam(lr=lrate, beta_1=0.9, beta_2=0.999, epsilon=None, decay=0.0, amsgrad=False)\n",
    "\n",
    "checkpoint = ModelCheckpoint(weights_filepath, monitor='loss', verbose=1, save_best_only=True, mode='min',save_weights_only=True)\n",
    "earlystopping = EarlyStopping(monitor='loss', min_delta=0, patience=10, verbose=0, mode='auto', baseline=None, restore_best_weights=False)\n",
    "callbacks_list = [checkpoint]\n",
    "epoch_num=2000\n",
    "batch_size=set\n",
    "autoencoder.compile(optimizer=my_adam, loss='MeanSquaredError',metrics=[coeff_determination,'accuracy'])\n",
    "#autoencoder.fit(snapshots_train, snapshots_train,\n",
    " #               epochs=epoch_num,  batch_size=batch_size,\n",
    "  #                        callbacks=callbacks_list\n",
    "   #             ,validation_data=(snapshots_valid, snapshots_valid))\n",
    "               # shuffle=True)\n",
    "autoencoder.load_weights(weights_filepath)\n",
    "#encoded_test = K.eval(encoder(snapshots_test.astype('float32')))\n",
    "#autoencoder_output = autoencoder.predict(snapshots_test)"
   ]
  },
  {
   "cell_type": "code",
   "execution_count": 5,
   "id": "7738daca",
   "metadata": {},
   "outputs": [],
   "source": [
    "# generate encoded data for lstm\n",
    "rnum_vals_train=set # batch size\n",
    "num_time_steps=tspan\n",
    "encoded_train = K.eval(encoder(snapshots_train.astype('float32')))\n",
    "# Reshape\n",
    "lstm_training_data = encoded_train.reshape(rnum_vals_train,num_time_steps,latent_dim)\n",
    "num_train_snapshots=rnum_vals_train\n",
    "time_window=10 #try\n",
    "total_size = np.shape(lstm_training_data)[0]*np.shape(lstm_training_data)[1] # 45*600=27000\n",
    "total_size_sim = np.shape(lstm_training_data)[1]                             # 600\n",
    "input_seq = np.zeros(shape=(total_size-num_train_snapshots*time_window\n",
    "                           ,time_window,latent_dim))\n",
    "output_seq = np.zeros(shape=(total_size-num_train_snapshots*time_window,latent_dim))\n",
    "# Setting up inputs\n",
    "sample = 0\n",
    "for snum in range(num_train_snapshots):\n",
    "    for t in range(time_window,total_size_sim):\n",
    "        input_seq[sample,:,:] = lstm_training_data[snum,t-time_window:t,:]\n",
    "        output_seq[sample,:] = lstm_training_data[snum,t,0:latent_dim]\n",
    "        sample = sample + 1"
   ]
  },
  {
   "cell_type": "code",
   "execution_count": 6,
   "id": "6a373c01",
   "metadata": {},
   "outputs": [],
   "source": [
    "# generate validation data for lstm\n",
    "rnum_vals_train=1 # batch size\n",
    "num_time_steps=tspan\n",
    "num_train_snapshots=rnum_vals_train\n",
    "encoded_train=outliers(encoded_train,10)\n",
    "# Reshape\n",
    "encoded_valid=K.eval(encoder(snapshots_valid.astype('float32')))\n",
    "lstm_training_data_valid = encoded_valid.reshape(rnum_vals_train,num_time_steps,latent_dim)\n",
    "total_size_valid = np.shape(lstm_training_data_valid)[0]*np.shape(lstm_training_data_valid)[1] # 45*600=27000\n",
    "total_size_sim_valid = np.shape(lstm_training_data_valid)[1]                             # 600\n",
    "input_seq_valid = np.zeros(shape=(total_size_valid-num_train_snapshots*time_window\n",
    "                           ,time_window,latent_dim))\n",
    "output_seq_valid = np.zeros(shape=(total_size_valid-num_train_snapshots*time_window,latent_dim))\n",
    "# Setting up inputs\n",
    "sample = 0\n",
    "for snum in range(num_train_snapshots):\n",
    "    for t in range(time_window,total_size_sim_valid):\n",
    "        input_seq_valid[sample,:,:] = lstm_training_data_valid[snum,t-time_window:t,:]\n",
    "        output_seq_valid[sample,:] = lstm_training_data_valid[snum,t,0:latent_dim]\n",
    "        sample = sample + 1"
   ]
  },
  {
   "cell_type": "code",
   "execution_count": 7,
   "id": "77dca671",
   "metadata": {
    "scrolled": true
   },
   "outputs": [
    {
     "name": "stdout",
     "output_type": "stream",
     "text": [
      "Model: \"sequential\"\n",
      "_________________________________________________________________\n",
      " Layer (type)                Output Shape              Param #   \n",
      "=================================================================\n",
      " lstm (LSTM)                 (None, 10, 40)            8640      \n",
      "                                                                 \n",
      " lstm_1 (LSTM)               (None, 10, 40)            12960     \n",
      "                                                                 \n",
      " lstm_2 (LSTM)               (None, 10, 40)            12960     \n",
      "                                                                 \n",
      " lstm_3 (LSTM)               (None, 40)                12960     \n",
      "                                                                 \n",
      " dense_7 (Dense)             (None, 13)                533       \n",
      "                                                                 \n",
      "=================================================================\n",
      "Total params: 48,053\n",
      "Trainable params: 48,053\n",
      "Non-trainable params: 0\n",
      "_________________________________________________________________\n"
     ]
    }
   ],
   "source": [
    "# Model architecture\n",
    "units=40\n",
    "lstm_model = models.Sequential()\n",
    "lstm_model.add(LSTM(units,input_shape=(time_window, latent_dim),return_sequences=True))\n",
    "#lstm_model.add(Dropout(0.2))\n",
    "lstm_model.add(LSTM(units,input_shape=(time_window, latent_dim),return_sequences=True))\n",
    "#lstm_model.add(Dropout(0.2))\n",
    "lstm_model.add(LSTM(units,input_shape=(time_window, latent_dim),return_sequences=True))\n",
    "#lstm_model.add(Dropout(0.2))\n",
    "#lstm_model.add(LSTM(units,input_shape=(time_window, latent_dim),return_sequences=True))\n",
    "#lstm_model.add(LSTM(units,return_sequences=True))\n",
    "lstm_model.add(LSTM(units,return_sequences=False))\n",
    "#lstm_model.add(Dropout(0.1))#try # 80 showing best response\n",
    "#lstm_model.add(LSTM(units,return_sequences=False))\n",
    "#lstm_model.add(Dropout(0.1))#\n",
    "#lstm_model.add(LSTM(80,return_sequences=False))\n",
    "#lstm_model.add(LSTM(40,input_shape=(time_window, latent_dim),return_sequences=False))\n",
    "lstm_model.add(Dense(latent_dim, activation=None))\n",
    "\n",
    "# design network\n",
    "lstm_filepath = 'lstm_weightsMNAD10.h5'\n",
    "lstm_adam = optimizers.Adam(lr=0.001, beta_1=0.9, beta_2=0.999, epsilon=None, decay=0.0, amsgrad=False)\n",
    "checkpoint = ModelCheckpoint(lstm_filepath, monitor='loss', verbose=0, save_best_only=True, mode='min',save_weights_only=True)\n",
    "earlystopping = EarlyStopping(monitor='loss', min_delta=0, patience=5, verbose=0, mode='auto', baseline=None, restore_best_weights=False)\n",
    "lstm_callbacks_list = [checkpoint]\n",
    "# fit network\n",
    "lstm_model.compile(optimizer=lstm_adam,loss='mean_squared_error')\n",
    "\n",
    "lstm_model.summary()\n",
    "#if mode == 'train':\n",
    "# training parameters\n",
    "batch_size_lstm=set # try batch size=590\n",
    "num_epochs = 2000 # try\n",
    "#lstm_train_history = lstm_model.fit(input_seq,output_seq, epochs=num_epochs, \n",
    " #                                   batch_size=batch_size_lstm, callbacks=lstm_callbacks_list   #,shuffle=True\n",
    "  #                                ,validation_data=[input_seq_valid,output_seq_valid] )"
   ]
  },
  {
   "cell_type": "markdown",
   "id": "b9e5f406",
   "metadata": {},
   "source": [
    "# Testing"
   ]
  },
  {
   "cell_type": "code",
   "execution_count": 8,
   "id": "cc05571d",
   "metadata": {},
   "outputs": [],
   "source": [
    "# Calculating MNADs\n",
    "def MNAD(y_true,y_pred):\n",
    "    Nx=y_true.shape[1] #columns=dims\n",
    "    Nt=y_true.shape[0] # rows = time\n",
    "    F=np.zeros(shape=(Nt,Nx))\n",
    "    for i in range(Nx):\n",
    "         F[:,i]=abs(y_true[:,i]-y_pred[:,i])/ (max(y_true[:,i])- min(y_true[:,i]))\n",
    "    NAD=F.mean(axis=1)        \n",
    "    return NAD.mean()\n",
    "#print(MNAD(snapshots_test,decoded_lstm))  "
   ]
  },
  {
   "cell_type": "code",
   "execution_count": 10,
   "id": "f06451df",
   "metadata": {
    "scrolled": true
   },
   "outputs": [
    {
     "name": "stdout",
     "output_type": "stream",
     "text": [
      "Running testing for i = 1  of  15\n",
      "Running LSTM...\n",
      "Running testing for i = 2  of  15\n",
      "Running LSTM...\n",
      "Running testing for i = 3  of  15\n",
      "Running LSTM...\n",
      "Running testing for i = 4  of  15\n",
      "Running LSTM...\n",
      "Running testing for i = 5  of  15\n",
      "Running LSTM...\n",
      "Running testing for i = 6  of  15\n",
      "Running LSTM...\n",
      "Running testing for i = 7  of  15\n",
      "Running LSTM...\n",
      "Running testing for i = 8  of  15\n",
      "Running LSTM...\n",
      "Running testing for i = 9  of  15\n",
      "Running LSTM...\n",
      "Running testing for i = 10  of  15\n",
      "Running LSTM...\n",
      "Running testing for i = 11  of  15\n",
      "Running LSTM...\n",
      "Running testing for i = 12  of  15\n",
      "Running LSTM...\n",
      "Running testing for i = 13  of  15\n",
      "Running LSTM...\n",
      "Running testing for i = 14  of  15\n",
      "Running LSTM...\n"
     ]
    }
   ],
   "source": [
    "# Calculation of Decoded values and MNADs\n",
    "loop=int(snapshots_all.shape[0]/tspan)#49\n",
    "d=int(snapshots_train.shape[1]/2) # no of dimensions (features)\n",
    "rnum_vals_test=1\n",
    "num_time_steps=tspan\n",
    "lstm_model.load_weights(lstm_filepath)\n",
    "#rnum_vals_test=300\n",
    "#time_window=4\n",
    "#Norm_delta=np.zeros(shape=(1,loop-1))\n",
    "#Norm_omega=np.zeros(shape=(1,loop-1))\n",
    "MNAD_delta=np.zeros(shape=(1,loop-1))\n",
    "MNAD_omega=np.zeros(shape=(1,loop-1))\n",
    "for i in range(1,loop):\n",
    "    print('Running testing for i =', i, ' of ', loop)\n",
    "    snapshots_test=snapshots_all[(i)*tspan:i*tspan+tspan,:]\n",
    "    encoded_test = K.eval(encoder(snapshots_test.astype('float32')))    \n",
    "    # data for testing LSTM\n",
    "    num_test_snapshots=rnum_vals_test\n",
    "    lstm_testing_data = encoded_test.reshape(rnum_vals_test,num_time_steps,latent_dim)\n",
    "    #scaler = MinMaxScaler()\n",
    "    #stm_testing_data[0,:,:]=scaler.fit_transform(lstm_testing_data[0,:,:])\n",
    "    total_size = np.shape(lstm_testing_data)[0]*np.shape(lstm_testing_data)[1]\n",
    "    total_size_sim = np.shape(lstm_testing_data)[1]\n",
    "    # Shape the inputs and outputs\n",
    "    input_seq = np.zeros(shape=(1,time_window,latent_dim))\n",
    "    output_seq = np.zeros(shape=(total_size-num_test_snapshots*time_window,latent_dim))\n",
    "    output_seq_pred = np.zeros(shape=(total_size-num_test_snapshots*time_window,latent_dim))\n",
    "    lstm_model.load_weights(lstm_filepath)\n",
    "    # Setting up inputs\n",
    "    sample = 0\n",
    "    print('Running LSTM...')\n",
    "    for snum in range(num_test_snapshots):\n",
    "        input_seq[0,:,:] = lstm_testing_data[snum,0:time_window,:]\n",
    "        for t in range(time_window,total_size_sim):\n",
    "            #input_seq[0,:,:] = lstm_testing_data[snum,t-time_window:t,:]\n",
    "            output_seq_pred[sample,:] = lstm_model.predict(input_seq[0:latent_dim,:,:])[0,:]   # [0,:]\n",
    "            output_seq[sample,:] = lstm_testing_data[snum,t,0:latent_dim]\n",
    "            input_seq[0,0:time_window-1,:] = input_seq[0,1:,:] \n",
    "            input_seq[0,time_window-1,:latent_dim] = output_seq_pred[sample,:]\n",
    "            sample = sample + 1\n",
    "    output_seq_pred = np.concatenate((encoded_test[0:time_window,:],output_seq_pred),axis=0)\n",
    "    decoded_lstm= K.eval(decoder(output_seq_pred.astype('float32')))\n",
    "    #Norm_delta[:,:]=norm(snapshots_test[:,:d]-decoded_lstm[:,:d])/norm(snapshots_test[:,:d])\n",
    "   # Norm_omega[:,:]=norm(snapshots_test[:,d:]-decoded_lstm[:,d:])/norm(snapshots_test[:,d:])\n",
    "    MNAD_delta[:,i-1]=MNAD(snapshots_test[:,:d],decoded_lstm[:,:d])\n",
    "    MNAD_omega[:,i-1]=MNAD(snapshots_test[:,d:],decoded_lstm[:,d:])                   \n",
    "    "
   ]
  },
  {
   "cell_type": "code",
   "execution_count": 14,
   "id": "b4ed7ccf",
   "metadata": {
    "scrolled": false
   },
   "outputs": [
    {
     "data": {
      "image/png": "[encoded data removed]",
      "text/plain": [
       "<Figure size 432x288 with 1 Axes>"
      ]
     },
     "metadata": {
      "needs_background": "light"
     },
     "output_type": "display_data"
    }
   ],
   "source": [
    "plt.plot(MNAD_delta.T,'r*')\n",
    "#plt.plot(MNAD_omega.T,'k*')\n",
    "plt.title('MNAD error of deltas for range of data sets')\n",
    "plt.savefig('Results/MNAD_delta')"
   ]
  },
  {
   "cell_type": "code",
   "execution_count": null,
   "id": "3a9668ef",
   "metadata": {},
   "outputs": [],
   "source": [
    "plt.plot(MNAD_omega.T,'r*')\n",
    "plt.title('MNAD error of omegas for range of data sets')\n",
    "plt.savefig('Results/MNAD_omega')"
   ]
  }
 ],
 "metadata": {
  "kernelspec": {
   "display_name": "Python 3 (ipykernel)",
   "language": "python",
   "name": "python3"
  },
  "language_info": {
   "codemirror_mode": {
    "name": "ipython",
    "version": 3
   },
   "file_extension": ".py",
   "mimetype": "text/x-python",
   "name": "python",
   "nbconvert_exporter": "python",
   "pygments_lexer": "ipython3",
   "version": "3.9.7"
  }
 },
 "nbformat": 4,
 "nbformat_minor": 5
}
